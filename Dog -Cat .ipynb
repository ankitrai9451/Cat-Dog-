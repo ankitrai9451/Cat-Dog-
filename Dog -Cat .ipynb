{
  "nbformat": 4,
  "nbformat_minor": 0,
  "metadata": {
    "colab": {
      "name": "Copy of Welcome To Colaboratory",
      "provenance": [],
      "collapsed_sections": []
    },
    "kernelspec": {
      "display_name": "Python 3",
      "name": "python3"
    },
    "accelerator": "TPU"
  },
  "cells": [
    {
      "cell_type": "code",
      "metadata": {
        "id": "Ja-NKldZ7dq7",
        "colab_type": "code",
        "outputId": "6402bfd3-15b4-405d-ef0b-050c1c852223",
        "colab": {
          "base_uri": "https://localhost:8080/",
          "height": 68
        }
      },
      "source": [
        "from keras.models import Sequential\n",
        "from keras.layers import Conv2D\n",
        "from keras.layers import MaxPooling2D\n",
        "from keras.layers import Flatten\n",
        "from keras.layers import Dense\n",
        "\n",
        "# Initialising the CNN\n",
        "classifier = Sequential()\n",
        "\n",
        "# Step 1 - Convolution\n",
        "classifier.add(Conv2D(32, (3, 3), input_shape = (64, 64, 3), activation = 'relu'))\n",
        "\n",
        "# Step 2 - Pooling\n",
        "classifier.add(MaxPooling2D(pool_size = (2, 2)))\n",
        "\n",
        "# Adding a second convolutional layer\n",
        "\n",
        "\n",
        "\n",
        "\n",
        "# Step 3 - Flattening\n",
        "classifier.add(Flatten())\n",
        "\n",
        "# Step 4 - Full connection\n",
        "classifier.add(Dense(units = 128, activation = 'relu'))\n",
        "\n",
        "classifier.add(Dense(units = 1, activation = 'sigmoid'))\n",
        "\n",
        "# Compiling the CNN\n",
        "classifier.compile(optimizer = 'adam', loss = 'binary_crossentropy', metrics = ['accuracy'])\n",
        "\n",
        "# Part 2 - Fitting the CNN to the images\n",
        "\n",
        "from keras.preprocessing.image import ImageDataGenerator\n",
        "\n",
        "train_datagen = ImageDataGenerator(rescale = 1./255,\n",
        "                                   shear_range = 0.2,\n",
        "                                   zoom_range = 0.2,\n",
        "                                   horizontal_flip = True)\n",
        "test_datagen = ImageDataGenerator(rescale = 1./255)\n",
        "\n",
        "training_set = train_datagen.flow_from_directory('/content/drive/My Drive/dog-cat-dataset/data/train',\n",
        "                                                 target_size = (64, 64),\n",
        "                                                 batch_size = 32,\n",
        "                                                 class_mode = 'binary')\n",
        "\n",
        "test_set = test_datagen.flow_from_directory('/content/drive/My Drive/dog-cat-dataset/data/test',\n",
        "                                            target_size = (64, 64),\n",
        "                                            batch_size = 32,\n",
        "                                            class_mode = 'binary')\n",
        "\n"
      ],
      "execution_count": 0,
      "outputs": [
        {
          "output_type": "stream",
          "text": [
            "Using TensorFlow backend.\n"
          ],
          "name": "stderr"
        },
        {
          "output_type": "stream",
          "text": [
            "Found 20010 images belonging to 2 classes.\n",
            "Found 5000 images belonging to 2 classes.\n"
          ],
          "name": "stdout"
        }
      ]
    },
    {
      "cell_type": "code",
      "metadata": {
        "id": "tgpfBxa38m3P",
        "colab_type": "code",
        "outputId": "8e173aad-c7d0-4355-b8c7-ff48a0737dc4",
        "colab": {
          "base_uri": "https://localhost:8080/",
          "height": 479
        }
      },
      "source": [
        "model = classifier.fit_generator(training_set,\n",
        "                         steps_per_epoch = 8000,\n",
        "                         epochs = 13,\n",
        "                         validation_data = test_set,    \n",
        "                         validation_steps = 2000)\n",
        "\n",
        "\n"
      ],
      "execution_count": 0,
      "outputs": [
        {
          "output_type": "stream",
          "text": [
            "Epoch 1/13\n",
            "8000/8000 [==============================] - 8294s 1s/step - loss: 0.4751 - accuracy: 0.7691 - val_loss: 0.4694 - val_accuracy: 0.7844\n",
            "Epoch 2/13\n",
            "8000/8000 [==============================] - 2634s 329ms/step - loss: 0.3314 - accuracy: 0.8538 - val_loss: 0.5743 - val_accuracy: 0.7930\n",
            "Epoch 3/13\n",
            "8000/8000 [==============================] - 2635s 329ms/step - loss: 0.2361 - accuracy: 0.9020 - val_loss: 0.9623 - val_accuracy: 0.7746\n",
            "Epoch 4/13\n",
            "8000/8000 [==============================] - 2635s 329ms/step - loss: 0.1777 - accuracy: 0.9288 - val_loss: 1.1902 - val_accuracy: 0.7780\n",
            "Epoch 5/13\n",
            "8000/8000 [==============================] - 2665s 333ms/step - loss: 0.1390 - accuracy: 0.9462 - val_loss: 0.7556 - val_accuracy: 0.7857\n",
            "Epoch 6/13\n",
            "8000/8000 [==============================] - 2638s 330ms/step - loss: 0.1140 - accuracy: 0.9572 - val_loss: 0.3480 - val_accuracy: 0.7869\n",
            "Epoch 7/13\n",
            "8000/8000 [==============================] - 2640s 330ms/step - loss: 0.0952 - accuracy: 0.9647 - val_loss: 0.8918 - val_accuracy: 0.7821\n",
            "Epoch 8/13\n",
            "8000/8000 [==============================] - 2648s 331ms/step - loss: 0.0826 - accuracy: 0.9699 - val_loss: 1.0850 - val_accuracy: 0.7760\n",
            "Epoch 9/13\n",
            "8000/8000 [==============================] - 2666s 333ms/step - loss: 0.0730 - accuracy: 0.9742 - val_loss: 1.1417 - val_accuracy: 0.7824\n",
            "Epoch 10/13\n",
            "8000/8000 [==============================] - 2635s 329ms/step - loss: 0.0658 - accuracy: 0.9769 - val_loss: 1.0795 - val_accuracy: 0.7947\n",
            "Epoch 11/13\n",
            "8000/8000 [==============================] - 2647s 331ms/step - loss: 0.0596 - accuracy: 0.9795 - val_loss: 2.4854 - val_accuracy: 0.7852\n",
            "Epoch 12/13\n",
            "8000/8000 [==============================] - 2708s 339ms/step - loss: 0.0539 - accuracy: 0.9813 - val_loss: 1.0082 - val_accuracy: 0.7825\n",
            "Epoch 13/13\n",
            "8000/8000 [==============================] - 2677s 335ms/step - loss: 0.0490 - accuracy: 0.9831 - val_loss: 0.2671 - val_accuracy: 0.7836\n"
          ],
          "name": "stdout"
        }
      ]
    },
    {
      "cell_type": "code",
      "metadata": {
        "id": "sRIcYNbv8A4i",
        "colab_type": "code",
        "colab": {}
      },
      "source": [
        "# Part 3 - Making new predictions\n",
        "\n",
        "import numpy as np\n",
        "from keras.preprocessing import image\n",
        "test_image = image.load_img('/content/drive/My Drive/dog-cat-dataset/data/test/dogs/dog.0.jpg', target_size = (64, 64))\n",
        "test_image = image.img_to_array(test_image)\n",
        "test_image = np.expand_dims(test_image, axis = 0)\n",
        "result = classifier.predict(test_image)\n",
        "training_set.class_indices\n",
        "if result[0][0] == 1:\n",
        "    prediction = 'cat'\n",
        "    print(prediction)\n",
        "else:\n",
        "    prediction = 'dog'\n",
        "    print(prediction)"
      ],
      "execution_count": 0,
      "outputs": []
    },
    {
      "cell_type": "code",
      "metadata": {
        "id": "Kx4AXy16AU02",
        "colab_type": "code",
        "outputId": "8b8aff72-221b-4ad1-976f-5e2fd876f8bc",
        "colab": {
          "base_uri": "https://localhost:8080/",
          "height": 34
        }
      },
      "source": [
        "classifier.save(\"model1.h5\")\n",
        "print(\"Saved model to disk\")"
      ],
      "execution_count": 0,
      "outputs": [
        {
          "output_type": "stream",
          "text": [
            "Saved model to disk\n"
          ],
          "name": "stdout"
        }
      ]
    }
  ]
}